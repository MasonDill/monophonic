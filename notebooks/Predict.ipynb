{
 "cells": [
  {
   "cell_type": "markdown",
   "metadata": {},
   "source": [
    "# Configure Inputs"
   ]
  },
  {
   "cell_type": "code",
   "execution_count": 1,
   "metadata": {},
   "outputs": [],
   "source": [
    "import os\n",
    "import subprocess"
   ]
  },
  {
   "cell_type": "code",
   "execution_count": null,
   "metadata": {},
   "outputs": [],
   "source": [
    "import "
   ]
  },
  {
   "cell_type": "code",
   "execution_count": 2,
   "metadata": {},
   "outputs": [],
   "source": [
    "path_to_model = \"/models/semantic_model.meta\"\n",
    "#path_to_model = \"/models/semantic_1-1-90.meta\""
   ]
  },
  {
   "cell_type": "code",
   "execution_count": 3,
   "metadata": {},
   "outputs": [],
   "source": [
    "path_to_ctc_predict = \"/tf-end-to-end/ctc_predict.py\"\n",
    "python_path = \"/usr/bin/python\"\n",
    "vocabulary_path = \"/tf-end-to-end/Data/vocabulary_semantic.txt\""
   ]
  },
  {
   "cell_type": "markdown",
   "metadata": {},
   "source": [
    "# Use the Model to Make a Prediction"
   ]
  },
  {
   "cell_type": "code",
   "execution_count": 4,
   "metadata": {},
   "outputs": [],
   "source": [
    "#python ctc_predict.py -image Data/Example/000051652-1_2_1.png -model Models/semantic_model.meta -vocabulary Data/vocabulary_semantic.txt\n",
    "def make_prediction(path_input):\n",
    "    command = python_path + \" \" +path_to_ctc_predict + \" -image \" +path_input +\" -model \"+path_to_model +\" -vocabulary \" +vocabulary_path + \" > /log.txt\"\n",
    "    subprocess.Popen(command, shell=True)\n",
    "    output = subprocess.check_output(command, shell=True, stderr=subprocess.STDOUT)"
   ]
  },
  {
   "cell_type": "code",
   "execution_count": 5,
   "metadata": {},
   "outputs": [],
   "source": [
    "def print_file(semantic_file):\n",
    "    command = \"cat \" +semantic_file\n",
    "    subprocess.Popen(command, shell=True)\n",
    "    output = subprocess.check_output(command, shell=True, stderr=subprocess.STDOUT)\n",
    "    print(output)"
   ]
  },
  {
   "cell_type": "markdown",
   "metadata": {},
   "source": [
    "# Use a custom Test Photo"
   ]
  },
  {
   "cell_type": "code",
   "execution_count": 6,
   "metadata": {},
   "outputs": [],
   "source": [
    "path_to_input_img = \"/pictures/\"\n",
    "#make_prediction(path_to_input_img)"
   ]
  },
  {
   "cell_type": "code",
   "execution_count": null,
   "metadata": {},
   "outputs": [],
   "source": []
  },
  {
   "cell_type": "markdown",
   "metadata": {},
   "source": [
    "# Pick a Random Test Photo"
   ]
  },
  {
   "cell_type": "code",
   "execution_count": 7,
   "metadata": {},
   "outputs": [],
   "source": [
    "#A list of image files to test\n",
    "test_path = \"/tf-end-to-end/Data/test.txt\"\n",
    "#Primus data path\n",
    "primus_path = \"/primus_data\""
   ]
  },
  {
   "cell_type": "code",
   "execution_count": 8,
   "metadata": {},
   "outputs": [],
   "source": [
    "import random\n",
    "import numpy as np"
   ]
  },
  {
   "cell_type": "code",
   "execution_count": 9,
   "metadata": {},
   "outputs": [],
   "source": [
    "# Read the lines from the file and store them in a list\n",
    "with open(test_path, 'r') as file:\n",
    "        test_data = [str(line.strip()) for line in file.readlines()]"
   ]
  },
  {
   "cell_type": "code",
   "execution_count": 10,
   "metadata": {},
   "outputs": [],
   "source": [
    "# Return a random image path and remove it from the test_data list\n",
    "def pick_random_sample():\n",
    "    rand_idx = random.randint(0, len(test_data) - 1)\n",
    "    random_test_sample = test_data[rand_idx]\n",
    "    test_data.pop(rand_idx)\n",
    "    return primus_path +\"/\" +random_test_sample +\"/\" +random_test_sample"
   ]
  },
  {
   "cell_type": "code",
   "execution_count": 16,
   "metadata": {},
   "outputs": [],
   "source": [
    "def compare_results(semantic_file):\n",
    "    command = \"diff \" +semantic_file +\" /log.txt\"\n",
    "    #print(command + \" > /log.txt\")\n",
    "    subprocess.Popen(command, shell=True)\n",
    "    output = subprocess.check_output(command, shell=True, stderr=subprocess.STDOUT)\n",
    "    print(output)"
   ]
  },
  {
   "cell_type": "code",
   "execution_count": 17,
   "metadata": {},
   "outputs": [
    {
     "name": "stdout",
     "output_type": "stream",
     "text": [
      "2023-09-12 06:59:25.197036: I tensorflow/core/platform/cpu_feature_guard.cc:141] Your CPU supports instructions that this TensorFlow binary was not compiled to use: AVX2 FMA\n",
      "WARNING:tensorflow:The saved meta_graph is possibly from an older release:\n",
      "'model_variables' collection should be of type 'byte_list', but instead is of type 'node_list'.\n",
      "\n",
      "clef-G2 \ttimeSignature-3/8 \tnote-G5_eighth. \tnote-C6_sixteenth \tbarline \tnote-E6_sixteenth. \tnote-D6_thirty_second \tnote-C6_sixteenth. \tnote-B5_thirty_second \tnote-A5_sixteenth. \tnote-G5_thirty_second \tbarline \tnote-F5_sixteenth. \tnote-E5_thirty_second \tnote-D5_sixteenth. \tnote-C5_thirty_second \tnote-B4_sixteenth. \tnote-C5_thirty_second \tnote-F5_quarter \tnote-E5_eighth \tbarline \tnote-F5_quarter \tnote-E5_eighth \tbarline \tgracenote-G5_eighth \tnote-D5_sixteenth. \tnote-C#5_thirty_second \tnote-D5_sixteenth. \tnote-E5_thirty_second \tnote-D5_eighth \tbarline \t\n",
      "clef-G2\ttimeSignature-3/8\tnote-G5_eighth.\tnote-C6_sixteenth\tbarline\tnote-E6_sixteenth.\tnote-D6_thirty_second\tnote-C6_sixteenth.\tnote-B5_thirty_second\tnote-A5_sixteenth.\tnote-G5_thirty_second\tbarline\tnote-F5_sixteenth.\tnote-E5_thirty_second\tnote-D5_sixteenth.\tnote-C5_thirty_second\tnote-B4_sixteenth.\tnote-C5_thirty_second\tbarline\tnote-F5_quarter\tnote-E5_eighth\tbarline\tnote-F5_quarter\tnote-E5_eighth\tbarline\tgracenote-E5_sixteenth\tnote-D5_sixteenth.\tnote-C#5_thirty_second\tnote-D5_sixteenth.\tnote-E5_thirty_second\tnote-D5_eighth\tbarline\t\n"
     ]
    },
    {
     "ename": "CalledProcessError",
     "evalue": "Command 'diff /primus_data/201001639-1_1_1/201001639-1_1_1.semantic /log.txt' returned non-zero exit status 1",
     "output_type": "error",
     "traceback": [
      "\u001b[0;31m\u001b[0m",
      "\u001b[0;31mCalledProcessError\u001b[0mTraceback (most recent call last)",
      "\u001b[0;32m<ipython-input-17-a7996afc08e7>\u001b[0m in \u001b[0;36m<module>\u001b[0;34m()\u001b[0m\n\u001b[1;32m      4\u001b[0m \u001b[0mprint_file\u001b[0m\u001b[0;34m(\u001b[0m\u001b[0;34m\"/log.txt\"\u001b[0m\u001b[0;34m)\u001b[0m\u001b[0;34m\u001b[0m\u001b[0m\n\u001b[1;32m      5\u001b[0m \u001b[0mprint_file\u001b[0m\u001b[0;34m(\u001b[0m\u001b[0mrand_sample\u001b[0m \u001b[0;34m+\u001b[0m \u001b[0;34m\".semantic\"\u001b[0m\u001b[0;34m)\u001b[0m\u001b[0;34m\u001b[0m\u001b[0m\n\u001b[0;32m----> 6\u001b[0;31m \u001b[0mcompare_results\u001b[0m\u001b[0;34m(\u001b[0m\u001b[0mrand_sample\u001b[0m \u001b[0;34m+\u001b[0m \u001b[0;34m\".semantic\"\u001b[0m\u001b[0;34m)\u001b[0m\u001b[0;34m\u001b[0m\u001b[0m\n\u001b[0m",
      "\u001b[0;32m<ipython-input-16-4d0bad776222>\u001b[0m in \u001b[0;36mcompare_results\u001b[0;34m(semantic_file)\u001b[0m\n\u001b[1;32m      3\u001b[0m     \u001b[0;31m#print(command + \" > /log.txt\")\u001b[0m\u001b[0;34m\u001b[0m\u001b[0;34m\u001b[0m\u001b[0m\n\u001b[1;32m      4\u001b[0m     \u001b[0msubprocess\u001b[0m\u001b[0;34m.\u001b[0m\u001b[0mPopen\u001b[0m\u001b[0;34m(\u001b[0m\u001b[0mcommand\u001b[0m\u001b[0;34m,\u001b[0m \u001b[0mshell\u001b[0m\u001b[0;34m=\u001b[0m\u001b[0mTrue\u001b[0m\u001b[0;34m)\u001b[0m\u001b[0;34m\u001b[0m\u001b[0m\n\u001b[0;32m----> 5\u001b[0;31m     \u001b[0moutput\u001b[0m \u001b[0;34m=\u001b[0m \u001b[0msubprocess\u001b[0m\u001b[0;34m.\u001b[0m\u001b[0mcheck_output\u001b[0m\u001b[0;34m(\u001b[0m\u001b[0mcommand\u001b[0m\u001b[0;34m,\u001b[0m \u001b[0mshell\u001b[0m\u001b[0;34m=\u001b[0m\u001b[0mTrue\u001b[0m\u001b[0;34m,\u001b[0m \u001b[0mstderr\u001b[0m\u001b[0;34m=\u001b[0m\u001b[0msubprocess\u001b[0m\u001b[0;34m.\u001b[0m\u001b[0mSTDOUT\u001b[0m\u001b[0;34m)\u001b[0m\u001b[0;34m\u001b[0m\u001b[0m\n\u001b[0m\u001b[1;32m      6\u001b[0m     \u001b[0;32mprint\u001b[0m\u001b[0;34m(\u001b[0m\u001b[0moutput\u001b[0m\u001b[0;34m)\u001b[0m\u001b[0;34m\u001b[0m\u001b[0m\n",
      "\u001b[0;32m/usr/lib/python2.7/subprocess.pyc\u001b[0m in \u001b[0;36mcheck_output\u001b[0;34m(*popenargs, **kwargs)\u001b[0m\n\u001b[1;32m    572\u001b[0m         \u001b[0;32mif\u001b[0m \u001b[0mcmd\u001b[0m \u001b[0;32mis\u001b[0m \u001b[0mNone\u001b[0m\u001b[0;34m:\u001b[0m\u001b[0;34m\u001b[0m\u001b[0m\n\u001b[1;32m    573\u001b[0m             \u001b[0mcmd\u001b[0m \u001b[0;34m=\u001b[0m \u001b[0mpopenargs\u001b[0m\u001b[0;34m[\u001b[0m\u001b[0;36m0\u001b[0m\u001b[0;34m]\u001b[0m\u001b[0;34m\u001b[0m\u001b[0m\n\u001b[0;32m--> 574\u001b[0;31m         \u001b[0;32mraise\u001b[0m \u001b[0mCalledProcessError\u001b[0m\u001b[0;34m(\u001b[0m\u001b[0mretcode\u001b[0m\u001b[0;34m,\u001b[0m \u001b[0mcmd\u001b[0m\u001b[0;34m,\u001b[0m \u001b[0moutput\u001b[0m\u001b[0;34m=\u001b[0m\u001b[0moutput\u001b[0m\u001b[0;34m)\u001b[0m\u001b[0;34m\u001b[0m\u001b[0m\n\u001b[0m\u001b[1;32m    575\u001b[0m     \u001b[0;32mreturn\u001b[0m \u001b[0moutput\u001b[0m\u001b[0;34m\u001b[0m\u001b[0m\n\u001b[1;32m    576\u001b[0m \u001b[0;34m\u001b[0m\u001b[0m\n",
      "\u001b[0;31mCalledProcessError\u001b[0m: Command 'diff /primus_data/201001639-1_1_1/201001639-1_1_1.semantic /log.txt' returned non-zero exit status 1"
     ]
    }
   ],
   "source": [
    "rand_sample = pick_random_sample()\n",
    "\n",
    "make_prediction(rand_sample + \".png\")\n",
    "print_file(\"/log.txt\")\n",
    "print_file(rand_sample + \".semantic\")\n",
    "compare_results(rand_sample + \".semantic\")"
   ]
  },
  {
   "cell_type": "markdown",
   "metadata": {},
   "source": [
    "Convert the output"
   ]
  },
  {
   "cell_type": "code",
   "execution_count": 13,
   "metadata": {},
   "outputs": [],
   "source": [
    "# while(len(test_data) > 0):\n",
    "#     make_prediction(pick_random_sample())"
   ]
  },
  {
   "cell_type": "code",
   "execution_count": null,
   "metadata": {},
   "outputs": [],
   "source": []
  }
 ],
 "metadata": {
  "kernelspec": {
   "display_name": "Python 2",
   "language": "python",
   "name": "python2"
  },
  "language_info": {
   "codemirror_mode": {
    "name": "ipython",
    "version": 2
   },
   "file_extension": ".py",
   "mimetype": "text/x-python",
   "name": "python",
   "nbconvert_exporter": "python",
   "pygments_lexer": "ipython2",
   "version": "2.7.12"
  }
 },
 "nbformat": 4,
 "nbformat_minor": 2
}
